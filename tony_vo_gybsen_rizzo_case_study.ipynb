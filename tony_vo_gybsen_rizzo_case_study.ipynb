{
 "cells": [
  {
   "cell_type": "code",
   "execution_count": 2,
   "id": "87140f77-c452-4af4-b3dc-869e429e8d9d",
   "metadata": {},
   "outputs": [],
   "source": [
    "import pandas as pd\n",
    "import seaborn as sns"
   ]
  },
  {
   "cell_type": "code",
   "execution_count": 22,
   "id": "dd0f3536-ef99-4776-b88f-590dab0bb68c",
   "metadata": {},
   "outputs": [
    {
     "name": "stderr",
     "output_type": "stream",
     "text": [
      "/tmp/ipykernel_269/1999626313.py:1: DtypeWarning: Columns (0) have mixed types. Specify dtype option on import or set low_memory=False.\n",
      "  tsa = pd.read_csv(\"tsa_claims1.csv\")\n"
     ]
    }
   ],
   "source": [
    "tsa = pd.read_csv(\"tsa_claims1.csv\")"
   ]
  },
  {
   "cell_type": "code",
   "execution_count": 119,
   "id": "dd604d5b-363e-43a4-b254-896fce271d8a",
   "metadata": {},
   "outputs": [
    {
     "data": {
      "text/html": [
       "<div>\n",
       "<style scoped>\n",
       "    .dataframe tbody tr th:only-of-type {\n",
       "        vertical-align: middle;\n",
       "    }\n",
       "\n",
       "    .dataframe tbody tr th {\n",
       "        vertical-align: top;\n",
       "    }\n",
       "\n",
       "    .dataframe thead th {\n",
       "        text-align: right;\n",
       "    }\n",
       "</style>\n",
       "<table border=\"1\" class=\"dataframe\">\n",
       "  <thead>\n",
       "    <tr style=\"text-align: right;\">\n",
       "      <th></th>\n",
       "      <th>Claim Number</th>\n",
       "      <th>Date Received</th>\n",
       "      <th>Incident Date</th>\n",
       "      <th>Airport Code</th>\n",
       "      <th>Airport Name</th>\n",
       "      <th>Airline Name</th>\n",
       "      <th>Claim Type</th>\n",
       "      <th>Claim Site</th>\n",
       "      <th>Item</th>\n",
       "      <th>Claim Amount</th>\n",
       "      <th>Status</th>\n",
       "      <th>Close Amount</th>\n",
       "      <th>Disposition</th>\n",
       "    </tr>\n",
       "  </thead>\n",
       "  <tbody>\n",
       "    <tr>\n",
       "      <th>0</th>\n",
       "      <td>0909802M</td>\n",
       "      <td>4-Jan-02</td>\n",
       "      <td>12/12/2002 0:00</td>\n",
       "      <td>EWR</td>\n",
       "      <td>Newark International Airport</td>\n",
       "      <td>Continental Airlines</td>\n",
       "      <td>Property Damage</td>\n",
       "      <td>Checkpoint</td>\n",
       "      <td>Other</td>\n",
       "      <td>350.00</td>\n",
       "      <td>Approved</td>\n",
       "      <td>350.00</td>\n",
       "      <td>Approve in Full</td>\n",
       "    </tr>\n",
       "    <tr>\n",
       "      <th>1</th>\n",
       "      <td>0202445M</td>\n",
       "      <td>4-Feb-02</td>\n",
       "      <td>11/26/2003 0:00</td>\n",
       "      <td>STL</td>\n",
       "      <td>Lambert St. Louis International</td>\n",
       "      <td>American Airlines</td>\n",
       "      <td>Property Damage</td>\n",
       "      <td>Checked Baggage</td>\n",
       "      <td>Cell Phones</td>\n",
       "      <td>278.88</td>\n",
       "      <td>Settled</td>\n",
       "      <td>227.92</td>\n",
       "      <td>Settle</td>\n",
       "    </tr>\n",
       "    <tr>\n",
       "      <th>2</th>\n",
       "      <td>0909816M</td>\n",
       "      <td>7-Feb-02</td>\n",
       "      <td>1/6/2003 0:00</td>\n",
       "      <td>MIA</td>\n",
       "      <td>Miami International Airport</td>\n",
       "      <td>American Airlines</td>\n",
       "      <td>Property Damage</td>\n",
       "      <td>Checkpoint</td>\n",
       "      <td>Luggage (all types including footlockers)</td>\n",
       "      <td>50.00</td>\n",
       "      <td>Approved</td>\n",
       "      <td>50.00</td>\n",
       "      <td>Approve in Full</td>\n",
       "    </tr>\n",
       "    <tr>\n",
       "      <th>3</th>\n",
       "      <td>2005032379513</td>\n",
       "      <td>18-Feb-02</td>\n",
       "      <td>2/5/2005 0:00</td>\n",
       "      <td>MCO</td>\n",
       "      <td>Orlando International Airport</td>\n",
       "      <td>Delta (Song)</td>\n",
       "      <td>Property Damage</td>\n",
       "      <td>Checkpoint</td>\n",
       "      <td>Baby - Strollers; car seats; playpen; etc.</td>\n",
       "      <td>84.79</td>\n",
       "      <td>Approved</td>\n",
       "      <td>84.79</td>\n",
       "      <td>Approve in Full</td>\n",
       "    </tr>\n",
       "    <tr>\n",
       "      <th>4</th>\n",
       "      <td>2005032479636</td>\n",
       "      <td>18-Feb-02</td>\n",
       "      <td>2/17/2005 0:00</td>\n",
       "      <td>CAK</td>\n",
       "      <td>Akron-Canton Regional</td>\n",
       "      <td>Air Tran Airlines(do not use)</td>\n",
       "      <td>Passenger Property Loss</td>\n",
       "      <td>Checked Baggage</td>\n",
       "      <td>Other</td>\n",
       "      <td>459.01</td>\n",
       "      <td>Settled</td>\n",
       "      <td>227.00</td>\n",
       "      <td>Settle</td>\n",
       "    </tr>\n",
       "    <tr>\n",
       "      <th>...</th>\n",
       "      <td>...</td>\n",
       "      <td>...</td>\n",
       "      <td>...</td>\n",
       "      <td>...</td>\n",
       "      <td>...</td>\n",
       "      <td>...</td>\n",
       "      <td>...</td>\n",
       "      <td>...</td>\n",
       "      <td>...</td>\n",
       "      <td>...</td>\n",
       "      <td>...</td>\n",
       "      <td>...</td>\n",
       "      <td>...</td>\n",
       "    </tr>\n",
       "    <tr>\n",
       "      <th>94843</th>\n",
       "      <td>2010010567195</td>\n",
       "      <td>31-Dec-09</td>\n",
       "      <td>12/14/2009 0:00</td>\n",
       "      <td>EWR</td>\n",
       "      <td>Newark International Airport</td>\n",
       "      <td>Continental Airlines</td>\n",
       "      <td>Property Damage</td>\n",
       "      <td>Checked Baggage</td>\n",
       "      <td>Luggage (all types including footlockers)</td>\n",
       "      <td>175.90</td>\n",
       "      <td>Denied</td>\n",
       "      <td>0.00</td>\n",
       "      <td>Deny</td>\n",
       "    </tr>\n",
       "    <tr>\n",
       "      <th>94844</th>\n",
       "      <td>2010010667196</td>\n",
       "      <td>31-Dec-09</td>\n",
       "      <td>12/17/2009 7:55</td>\n",
       "      <td>BWI</td>\n",
       "      <td>Baltimore/Washington Intl Thurgood Marshall</td>\n",
       "      <td>Southwest Airlines</td>\n",
       "      <td>Passenger Property Loss</td>\n",
       "      <td>Checked Baggage</td>\n",
       "      <td>Cell Phones (smartphone type-blackberry; iphon...</td>\n",
       "      <td>695.00</td>\n",
       "      <td>Denied</td>\n",
       "      <td>0.00</td>\n",
       "      <td>Deny</td>\n",
       "    </tr>\n",
       "    <tr>\n",
       "      <th>94845</th>\n",
       "      <td>2010010667198</td>\n",
       "      <td>31-Dec-09</td>\n",
       "      <td>12/15/2009 0:00</td>\n",
       "      <td>SMF</td>\n",
       "      <td>Sacramento International Airport</td>\n",
       "      <td>Southwest Airlines</td>\n",
       "      <td>Passenger Property Loss</td>\n",
       "      <td>Checked Baggage</td>\n",
       "      <td>Locks</td>\n",
       "      <td>25.50</td>\n",
       "      <td>Denied</td>\n",
       "      <td>0.00</td>\n",
       "      <td>Deny</td>\n",
       "    </tr>\n",
       "    <tr>\n",
       "      <th>94846</th>\n",
       "      <td>2010010667199</td>\n",
       "      <td>31-Dec-09</td>\n",
       "      <td>12/16/2009 10:00</td>\n",
       "      <td>ENV</td>\n",
       "      <td>Wendover Municipal Airport</td>\n",
       "      <td>Xtra Airways</td>\n",
       "      <td>Passenger Property Loss</td>\n",
       "      <td>Checked Baggage</td>\n",
       "      <td>Locks</td>\n",
       "      <td>20.00</td>\n",
       "      <td>Denied</td>\n",
       "      <td>0.00</td>\n",
       "      <td>Deny</td>\n",
       "    </tr>\n",
       "    <tr>\n",
       "      <th>94847</th>\n",
       "      <td>2009122866807</td>\n",
       "      <td>31-Dec-09</td>\n",
       "      <td>11/21/2009 9:20</td>\n",
       "      <td>JFK</td>\n",
       "      <td>John F. Kennedy International</td>\n",
       "      <td>American Airlines</td>\n",
       "      <td>Property Damage</td>\n",
       "      <td>Checkpoint</td>\n",
       "      <td>Computer - Laptop</td>\n",
       "      <td>1228.95</td>\n",
       "      <td>Settled</td>\n",
       "      <td>826.72</td>\n",
       "      <td>Settle</td>\n",
       "    </tr>\n",
       "  </tbody>\n",
       "</table>\n",
       "<p>94848 rows × 13 columns</p>\n",
       "</div>"
      ],
      "text/plain": [
       "        Claim Number Date Received     Incident Date Airport Code  \\\n",
       "0           0909802M      4-Jan-02   12/12/2002 0:00          EWR   \n",
       "1           0202445M      4-Feb-02   11/26/2003 0:00          STL   \n",
       "2           0909816M      7-Feb-02     1/6/2003 0:00          MIA   \n",
       "3      2005032379513     18-Feb-02     2/5/2005 0:00          MCO   \n",
       "4      2005032479636     18-Feb-02    2/17/2005 0:00          CAK   \n",
       "...              ...           ...               ...          ...   \n",
       "94843  2010010567195     31-Dec-09   12/14/2009 0:00          EWR   \n",
       "94844  2010010667196     31-Dec-09   12/17/2009 7:55          BWI   \n",
       "94845  2010010667198     31-Dec-09   12/15/2009 0:00          SMF   \n",
       "94846  2010010667199     31-Dec-09  12/16/2009 10:00          ENV   \n",
       "94847  2009122866807     31-Dec-09   11/21/2009 9:20          JFK   \n",
       "\n",
       "                                      Airport Name  \\\n",
       "0                     Newark International Airport   \n",
       "1                  Lambert St. Louis International   \n",
       "2                      Miami International Airport   \n",
       "3                    Orlando International Airport   \n",
       "4                            Akron-Canton Regional   \n",
       "...                                            ...   \n",
       "94843                 Newark International Airport   \n",
       "94844  Baltimore/Washington Intl Thurgood Marshall   \n",
       "94845             Sacramento International Airport   \n",
       "94846                   Wendover Municipal Airport   \n",
       "94847                John F. Kennedy International   \n",
       "\n",
       "                        Airline Name               Claim Type  \\\n",
       "0               Continental Airlines          Property Damage   \n",
       "1                  American Airlines          Property Damage   \n",
       "2                  American Airlines          Property Damage   \n",
       "3                       Delta (Song)          Property Damage   \n",
       "4      Air Tran Airlines(do not use)  Passenger Property Loss   \n",
       "...                              ...                      ...   \n",
       "94843           Continental Airlines          Property Damage   \n",
       "94844             Southwest Airlines  Passenger Property Loss   \n",
       "94845             Southwest Airlines  Passenger Property Loss   \n",
       "94846                   Xtra Airways  Passenger Property Loss   \n",
       "94847              American Airlines          Property Damage   \n",
       "\n",
       "            Claim Site                                               Item  \\\n",
       "0           Checkpoint                                              Other   \n",
       "1      Checked Baggage                                        Cell Phones   \n",
       "2           Checkpoint          Luggage (all types including footlockers)   \n",
       "3           Checkpoint         Baby - Strollers; car seats; playpen; etc.   \n",
       "4      Checked Baggage                                              Other   \n",
       "...                ...                                                ...   \n",
       "94843  Checked Baggage          Luggage (all types including footlockers)   \n",
       "94844  Checked Baggage  Cell Phones (smartphone type-blackberry; iphon...   \n",
       "94845  Checked Baggage                                              Locks   \n",
       "94846  Checked Baggage                                              Locks   \n",
       "94847       Checkpoint                                  Computer - Laptop   \n",
       "\n",
       "       Claim Amount    Status  Close Amount      Disposition  \n",
       "0            350.00  Approved        350.00  Approve in Full  \n",
       "1            278.88   Settled        227.92           Settle  \n",
       "2             50.00  Approved         50.00  Approve in Full  \n",
       "3             84.79  Approved         84.79  Approve in Full  \n",
       "4            459.01   Settled        227.00           Settle  \n",
       "...             ...       ...           ...              ...  \n",
       "94843        175.90    Denied          0.00             Deny  \n",
       "94844        695.00    Denied          0.00             Deny  \n",
       "94845         25.50    Denied          0.00             Deny  \n",
       "94846         20.00    Denied          0.00             Deny  \n",
       "94847       1228.95   Settled        826.72           Settle  \n",
       "\n",
       "[94848 rows x 13 columns]"
      ]
     },
     "execution_count": 119,
     "metadata": {},
     "output_type": "execute_result"
    }
   ],
   "source": [
    "tsa"
   ]
  },
  {
   "cell_type": "code",
   "execution_count": 30,
   "id": "7eeb2e4b-c29a-4d6a-a7d6-a4ab95881a0b",
   "metadata": {},
   "outputs": [
    {
     "name": "stdout",
     "output_type": "stream",
     "text": [
      "<class 'pandas.core.frame.DataFrame'>\n",
      "RangeIndex: 94848 entries, 0 to 94847\n",
      "Data columns (total 13 columns):\n",
      " #   Column         Non-Null Count  Dtype  \n",
      "---  ------         --------------  -----  \n",
      " 0   Claim Number   94848 non-null  object \n",
      " 1   Date Received  94848 non-null  object \n",
      " 2   Incident Date  94848 non-null  object \n",
      " 3   Airport Code   94848 non-null  object \n",
      " 4   Airport Name   94848 non-null  object \n",
      " 5   Airline Name   94848 non-null  object \n",
      " 6   Claim Type     94848 non-null  object \n",
      " 7   Claim Site     94848 non-null  object \n",
      " 8   Item           94848 non-null  object \n",
      " 9   Claim Amount   94848 non-null  float64\n",
      " 10  Status         94848 non-null  object \n",
      " 11  Close Amount   94848 non-null  float64\n",
      " 12  Disposition    94848 non-null  object \n",
      "dtypes: float64(2), object(11)\n",
      "memory usage: 9.4+ MB\n"
     ]
    }
   ],
   "source": [
    "tsa.info()"
   ]
  },
  {
   "cell_type": "markdown",
   "id": "c16ca4d3-881e-4889-b867-49404181fdab",
   "metadata": {},
   "source": [
    "## What is the most common type of insurance claim?"
   ]
  },
  {
   "cell_type": "code",
   "execution_count": 38,
   "id": "223fce82-523e-44cd-8ba1-1ac1f9590138",
   "metadata": {},
   "outputs": [
    {
     "data": {
      "text/plain": [
       "Claim Type\n",
       "Passenger Property Loss    60265\n",
       "Property Damage            33730\n",
       "Passenger Theft              331\n",
       "Employee Loss (MPCECA)       308\n",
       "Personal Injury              208\n",
       "Motor Vehicle                  6\n",
       "Name: count, dtype: int64"
      ]
     },
     "execution_count": 38,
     "metadata": {},
     "output_type": "execute_result"
    }
   ],
   "source": [
    "tsa['Claim Type'].value_counts()"
   ]
  },
  {
   "cell_type": "markdown",
   "id": "2386322c-ca2c-46d5-a794-833e4318026d",
   "metadata": {},
   "source": [
    "Passenger Proptery Loss is the most common claim type."
   ]
  },
  {
   "cell_type": "markdown",
   "id": "29b3dc9b-ad75-4077-b7ff-4d987bc3870c",
   "metadata": {},
   "source": [
    "## Which claim site within the airport are claims most commonly filed for?"
   ]
  },
  {
   "cell_type": "code",
   "execution_count": 41,
   "id": "21958709-5ded-4a52-8f87-f798566058d7",
   "metadata": {},
   "outputs": [
    {
     "data": {
      "text/plain": [
       "Claim Site\n",
       "Checked Baggage    80553\n",
       "Checkpoint         14013\n",
       "Other                280\n",
       "Motor Vehicle          2\n",
       "Name: count, dtype: int64"
      ]
     },
     "execution_count": 41,
     "metadata": {},
     "output_type": "execute_result"
    }
   ],
   "source": [
    "tsa['Claim Site'].value_counts()"
   ]
  },
  {
   "cell_type": "markdown",
   "id": "aa7de5a5-ca1e-42b4-83e9-4a19de13af68",
   "metadata": {},
   "source": [
    "Checked Baggage Site is the most common claim site."
   ]
  },
  {
   "cell_type": "markdown",
   "id": "ae6cb997-ad79-4bdb-9183-d217d018c94e",
   "metadata": {},
   "source": [
    "## What type of claim is made most at each claim site?"
   ]
  },
  {
   "cell_type": "code",
   "execution_count": 95,
   "id": "552ae7d9-99fb-418c-a93c-191846982220",
   "metadata": {},
   "outputs": [],
   "source": [
    "claimtsa = tsa.groupby(['Claim Site', 'Claim Type']).size().reset_index(name='count')"
   ]
  },
  {
   "cell_type": "code",
   "execution_count": 109,
   "id": "c31115a1-c4ae-4972-b89f-5e38210a1f51",
   "metadata": {},
   "outputs": [
    {
     "data": {
      "text/html": [
       "<div>\n",
       "<style scoped>\n",
       "    .dataframe tbody tr th:only-of-type {\n",
       "        vertical-align: middle;\n",
       "    }\n",
       "\n",
       "    .dataframe tbody tr th {\n",
       "        vertical-align: top;\n",
       "    }\n",
       "\n",
       "    .dataframe thead th {\n",
       "        text-align: right;\n",
       "    }\n",
       "</style>\n",
       "<table border=\"1\" class=\"dataframe\">\n",
       "  <thead>\n",
       "    <tr style=\"text-align: right;\">\n",
       "      <th></th>\n",
       "      <th>Claim Site</th>\n",
       "      <th>Claim Type</th>\n",
       "      <th>count</th>\n",
       "    </tr>\n",
       "  </thead>\n",
       "  <tbody>\n",
       "    <tr>\n",
       "      <th>0</th>\n",
       "      <td>Checked Baggage</td>\n",
       "      <td>Employee Loss (MPCECA)</td>\n",
       "      <td>275</td>\n",
       "    </tr>\n",
       "    <tr>\n",
       "      <th>1</th>\n",
       "      <td>Checked Baggage</td>\n",
       "      <td>Motor Vehicle</td>\n",
       "      <td>4</td>\n",
       "    </tr>\n",
       "    <tr>\n",
       "      <th>2</th>\n",
       "      <td>Checked Baggage</td>\n",
       "      <td>Passenger Property Loss</td>\n",
       "      <td>53364</td>\n",
       "    </tr>\n",
       "    <tr>\n",
       "      <th>3</th>\n",
       "      <td>Checked Baggage</td>\n",
       "      <td>Passenger Theft</td>\n",
       "      <td>294</td>\n",
       "    </tr>\n",
       "    <tr>\n",
       "      <th>4</th>\n",
       "      <td>Checked Baggage</td>\n",
       "      <td>Personal Injury</td>\n",
       "      <td>89</td>\n",
       "    </tr>\n",
       "    <tr>\n",
       "      <th>5</th>\n",
       "      <td>Checked Baggage</td>\n",
       "      <td>Property Damage</td>\n",
       "      <td>26527</td>\n",
       "    </tr>\n",
       "    <tr>\n",
       "      <th>6</th>\n",
       "      <td>Checkpoint</td>\n",
       "      <td>Employee Loss (MPCECA)</td>\n",
       "      <td>32</td>\n",
       "    </tr>\n",
       "    <tr>\n",
       "      <th>7</th>\n",
       "      <td>Checkpoint</td>\n",
       "      <td>Motor Vehicle</td>\n",
       "      <td>1</td>\n",
       "    </tr>\n",
       "    <tr>\n",
       "      <th>8</th>\n",
       "      <td>Checkpoint</td>\n",
       "      <td>Passenger Property Loss</td>\n",
       "      <td>6740</td>\n",
       "    </tr>\n",
       "    <tr>\n",
       "      <th>9</th>\n",
       "      <td>Checkpoint</td>\n",
       "      <td>Passenger Theft</td>\n",
       "      <td>36</td>\n",
       "    </tr>\n",
       "    <tr>\n",
       "      <th>10</th>\n",
       "      <td>Checkpoint</td>\n",
       "      <td>Personal Injury</td>\n",
       "      <td>112</td>\n",
       "    </tr>\n",
       "    <tr>\n",
       "      <th>11</th>\n",
       "      <td>Checkpoint</td>\n",
       "      <td>Property Damage</td>\n",
       "      <td>7092</td>\n",
       "    </tr>\n",
       "    <tr>\n",
       "      <th>12</th>\n",
       "      <td>Motor Vehicle</td>\n",
       "      <td>Passenger Property Loss</td>\n",
       "      <td>2</td>\n",
       "    </tr>\n",
       "    <tr>\n",
       "      <th>13</th>\n",
       "      <td>Other</td>\n",
       "      <td>Employee Loss (MPCECA)</td>\n",
       "      <td>1</td>\n",
       "    </tr>\n",
       "    <tr>\n",
       "      <th>14</th>\n",
       "      <td>Other</td>\n",
       "      <td>Motor Vehicle</td>\n",
       "      <td>1</td>\n",
       "    </tr>\n",
       "    <tr>\n",
       "      <th>15</th>\n",
       "      <td>Other</td>\n",
       "      <td>Passenger Property Loss</td>\n",
       "      <td>159</td>\n",
       "    </tr>\n",
       "    <tr>\n",
       "      <th>16</th>\n",
       "      <td>Other</td>\n",
       "      <td>Passenger Theft</td>\n",
       "      <td>1</td>\n",
       "    </tr>\n",
       "    <tr>\n",
       "      <th>17</th>\n",
       "      <td>Other</td>\n",
       "      <td>Personal Injury</td>\n",
       "      <td>7</td>\n",
       "    </tr>\n",
       "    <tr>\n",
       "      <th>18</th>\n",
       "      <td>Other</td>\n",
       "      <td>Property Damage</td>\n",
       "      <td>111</td>\n",
       "    </tr>\n",
       "  </tbody>\n",
       "</table>\n",
       "</div>"
      ],
      "text/plain": [
       "         Claim Site               Claim Type  count\n",
       "0   Checked Baggage   Employee Loss (MPCECA)    275\n",
       "1   Checked Baggage            Motor Vehicle      4\n",
       "2   Checked Baggage  Passenger Property Loss  53364\n",
       "3   Checked Baggage          Passenger Theft    294\n",
       "4   Checked Baggage          Personal Injury     89\n",
       "5   Checked Baggage          Property Damage  26527\n",
       "6        Checkpoint   Employee Loss (MPCECA)     32\n",
       "7        Checkpoint            Motor Vehicle      1\n",
       "8        Checkpoint  Passenger Property Loss   6740\n",
       "9        Checkpoint          Passenger Theft     36\n",
       "10       Checkpoint          Personal Injury    112\n",
       "11       Checkpoint          Property Damage   7092\n",
       "12    Motor Vehicle  Passenger Property Loss      2\n",
       "13            Other   Employee Loss (MPCECA)      1\n",
       "14            Other            Motor Vehicle      1\n",
       "15            Other  Passenger Property Loss    159\n",
       "16            Other          Passenger Theft      1\n",
       "17            Other          Personal Injury      7\n",
       "18            Other          Property Damage    111"
      ]
     },
     "execution_count": 109,
     "metadata": {},
     "output_type": "execute_result"
    }
   ],
   "source": [
    "claimtsa"
   ]
  },
  {
   "cell_type": "code",
   "execution_count": 79,
   "id": "14adc2b2-5fa7-436b-90b9-b9f8bdfae861",
   "metadata": {},
   "outputs": [
    {
     "name": "stderr",
     "output_type": "stream",
     "text": [
      "/opt/conda/envs/anaconda-panel-2023.05-py310/lib/python3.11/site-packages/seaborn/axisgrid.py:118: UserWarning: The figure layout has changed to tight\n",
      "  self._figure.tight_layout(*args, **kwargs)\n"
     ]
    },
    {
     "data": {
      "text/plain": [
       "<seaborn.axisgrid.FacetGrid at 0x7f9579e43250>"
      ]
     },
     "execution_count": 79,
     "metadata": {},
     "output_type": "execute_result"
    },
    {
     "data": {
      "image/png": "[encoded data removed]",
      "text/plain": [
       "<Figure size 726.875x500 with 1 Axes>"
      ]
     },
     "metadata": {},
     "output_type": "display_data"
    }
   ],
   "source": [
    "sns.catplot(data=tsa, kind='count', x='Claim Site', hue=\"Claim Type\")"
   ]
  },
  {
   "cell_type": "markdown",
   "id": "c80b3f02-4378-4da9-b630-b6b270c1e043",
   "metadata": {},
   "source": [
    "## Claim Sites Highest\n",
    "\n",
    "Checked Baggage: Passenger Property Loss \\\n",
    "Checkpoint: Property Damage \\\n",
    "Motor Vehicle: Passenger Property Loss \\\n",
    "Other: Passenger Property Loss"
   ]
  },
  {
   "cell_type": "markdown",
   "id": "ccf3e6f8-6d45-49c9-9973-5fb1b4df1a8e",
   "metadata": {},
   "source": [
    "## What is the typical claim amount?"
   ]
  },
  {
   "cell_type": "code",
   "execution_count": 185,
   "id": "9b024ed8-54cf-48dc-bce0-4e1530b30d86",
   "metadata": {},
   "outputs": [
    {
     "name": "stdout",
     "output_type": "stream",
     "text": [
      "Mode of the column: 0    100.0\n",
      "Name: Claim Amount, dtype: float64\n"
     ]
    }
   ],
   "source": [
    "mode_value = tsa['Claim Amount'].mode()\n",
    "\n",
    "# Display the mode\n",
    "print(\"Mode of the column:\", mode_value)"
   ]
  },
  {
   "cell_type": "markdown",
   "id": "44d88b03-26c7-4cc7-b5bd-5d61c2c92303",
   "metadata": {},
   "source": [
    "The typical claim amount is the mean of the claim amounts"
   ]
  },
  {
   "cell_type": "markdown",
   "id": "c787d6fe-eaa9-4762-b929-c96b5cbb4367",
   "metadata": {},
   "source": [
    "The typical claim amount is 0 and 100"
   ]
  },
  {
   "cell_type": "markdown",
   "id": "1cc0e923-5539-4f74-b112-85d0af9188fe",
   "metadata": {},
   "source": [
    "## What is the overall claim approval rate for the entire U.S.?"
   ]
  },
  {
   "cell_type": "code",
   "execution_count": 148,
   "id": "8826ad36-54f1-4c34-9495-569eba9a1547",
   "metadata": {},
   "outputs": [
    {
     "data": {
      "text/plain": [
       "Status\n",
       "Denied                            0.561667\n",
       "Approved                          0.244254\n",
       "Settled                           0.194005\n",
       "Canceled                          0.000063\n",
       "Pending response from claimant    0.000011\n",
       "Name: proportion, dtype: float64"
      ]
     },
     "execution_count": 148,
     "metadata": {},
     "output_type": "execute_result"
    }
   ],
   "source": [
    "tsa['Status'].value_counts(normalize=True)"
   ]
  },
  {
   "cell_type": "markdown",
   "id": "536d74db-28f1-4676-bf21-42450f5c8af9",
   "metadata": {},
   "source": [
    "I counted each value within the \"Status\" column, allowing me to convert the count into a percentage of the total."
   ]
  },
  {
   "cell_type": "markdown",
   "id": "d088e5b3-ffc7-41a0-a71b-56fdd559fc2b",
   "metadata": {},
   "source": [
    "There is a 24.4% approval rate"
   ]
  },
  {
   "cell_type": "code",
   "execution_count": null,
   "id": "d16364d3-b763-4b16-91db-33b5aabb1a89",
   "metadata": {},
   "outputs": [],
   "source": []
  }
 ],
 "metadata": {
  "kernelspec": {
   "display_name": "anaconda-panel-2023.05-py310",
   "language": "python",
   "name": "conda-env-anaconda-panel-2023.05-py310-py"
  },
  "language_info": {
   "codemirror_mode": {
    "name": "ipython",
    "version": 3
   },
   "file_extension": ".py",
   "mimetype": "text/x-python",
   "name": "python",
   "nbconvert_exporter": "python",
   "pygments_lexer": "ipython3",
   "version": "3.11.5"
  }
 },
 "nbformat": 4,
 "nbformat_minor": 5
}
